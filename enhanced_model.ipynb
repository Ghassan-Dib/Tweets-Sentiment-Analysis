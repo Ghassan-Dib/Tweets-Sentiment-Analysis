{
  "cells": [
    {
      "cell_type": "markdown",
      "metadata": {
        "id": "uUKw0j3xhmyB"
      },
      "source": [
        "# Exercise 5: Optimising pre-processing and feature extraction"
      ]
    },
    {
      "cell_type": "code",
      "source": [
        "import nltk\n",
        "nltk.download('punkt')\n",
        "nltk.download('stopwords')\n",
        "nltk.download('wordnet')"
      ],
      "metadata": {
        "colab": {
          "base_uri": "https://localhost:8080/"
        },
        "id": "9pEdYyQdr1I_",
        "outputId": "e76dd5df-7b6f-4c49-b5db-8b3555a75eaa"
      },
      "execution_count": 24,
      "outputs": [
        {
          "output_type": "stream",
          "name": "stderr",
          "text": [
            "[nltk_data] Downloading package punkt to /root/nltk_data...\n",
            "[nltk_data]   Package punkt is already up-to-date!\n",
            "[nltk_data] Downloading package stopwords to /root/nltk_data...\n",
            "[nltk_data]   Package stopwords is already up-to-date!\n",
            "[nltk_data] Downloading package wordnet to /root/nltk_data...\n",
            "[nltk_data]   Package wordnet is already up-to-date!\n"
          ]
        },
        {
          "output_type": "execute_result",
          "data": {
            "text/plain": [
              "True"
            ]
          },
          "metadata": {},
          "execution_count": 24
        }
      ]
    },
    {
      "cell_type": "code",
      "execution_count": 25,
      "metadata": {
        "id": "Pn6KvKfOhmyE"
      },
      "outputs": [],
      "source": [
        "import csv\n",
        "import numpy as np\n",
        "from sklearn.svm import LinearSVC\n",
        "from sklearn.pipeline import Pipeline\n",
        "from nltk.classify import SklearnClassifier\n",
        "from sklearn.metrics import precision_recall_fscore_support"
      ]
    },
    {
      "cell_type": "code",
      "execution_count": 26,
      "metadata": {
        "id": "L0x__zaMhmyF"
      },
      "outputs": [],
      "source": [
        "def load_data(path):\n",
        "    \"\"\"Load data from a tab-separated file and append it to raw_data\"\"\"\n",
        "    raw_data = []\n",
        "    with open(path) as f:\n",
        "        reader = csv.reader(f, delimiter='\\t')\n",
        "        for line in reader:\n",
        "            if line[0] == \"Id\":\n",
        "                continue\n",
        "            (label, text) = parse_data_line(line)\n",
        "            raw_data.append((text, label))\n",
        "    return raw_data\n",
        "\n",
        "def split_and_preprocess_data(percentage):\n",
        "    \"\"\"Split the data between train_data and test_data according to the percentage\n",
        "    and performs the preprocessing.\"\"\"\n",
        "\n",
        "    num_samples = len(raw_data)\n",
        "    num_training_samples = int((percentage * num_samples))\n",
        "    for (text, label) in raw_data[:num_training_samples]:\n",
        "        train_data.append((to_feature_vector(pre_process(text)),label))\n",
        "    for (text, label) in raw_data[num_training_samples:]:\n",
        "        test_data.append((to_feature_vector(pre_process(text)),label))"
      ]
    },
    {
      "cell_type": "code",
      "execution_count": 27,
      "metadata": {
        "id": "TJdOIMZPhmyF"
      },
      "outputs": [],
      "source": [
        "def parse_data_line(data_line):\n",
        "    return (data_line[1], data_line[2])"
      ]
    },
    {
      "cell_type": "code",
      "source": [
        "data = load_data('sentiment-dataset.tsv')"
      ],
      "metadata": {
        "id": "Dis_PGdvfCK0"
      },
      "execution_count": 29,
      "outputs": []
    },
    {
      "cell_type": "markdown",
      "source": [
        "## New Preprocessing method\n",
        "\n",
        "Enhancements:\n",
        "- removing punctuation\n",
        "- lowercasing normalization\n",
        "- removing stop words\n",
        "- Stemming"
      ],
      "metadata": {
        "id": "FB9C1cTsSRLp"
      }
    },
    {
      "cell_type": "code",
      "source": [
        "import re\n",
        "import nltk\n",
        "from nltk.tokenize import word_tokenize\n",
        "from nltk.corpus import stopwords\n",
        "from nltk.stem import PorterStemmer\n",
        "\n",
        "def pre_process(tweet):\n",
        "    stop_words = set(stopwords.words('english'))\n",
        "    stemmer = PorterStemmer()\n",
        "\n",
        "    tweet = re.sub(\"[^a-zA-Z]\", \" \", tweet) # remove punctuation\n",
        "    tokens = nltk.word_tokenize(tweet) # transform text into tokens\n",
        "    lower_case = [l.lower() for l in tokens] # normalize by lower casing\n",
        "    filtered_result = list(filter(lambda l: l not in stop_words, lower_case)) # remove stop words\n",
        "    stems = [stemmer.stem(t) for t in filtered_result] # apply stemming\n",
        "    return stems"
      ],
      "metadata": {
        "id": "_vUkuhXHSVbY"
      },
      "execution_count": 48,
      "outputs": []
    },
    {
      "cell_type": "code",
      "source": [
        "print(pre_process(data[0][0]))"
      ],
      "metadata": {
        "colab": {
          "base_uri": "https://localhost:8080/"
        },
        "id": "eGNUO35KaaCp",
        "outputId": "1efe2264-4f6c-4421-f821-8cc9ee248220"
      },
      "execution_count": 31,
      "outputs": [
        {
          "output_type": "stream",
          "name": "stdout",
          "text": [
            "['liter', 'excit', 'go', 'sam', 'smith', 'concert', 'octob']\n"
          ]
        }
      ]
    },
    {
      "cell_type": "code",
      "source": [
        "tweets = [tweet for tweet, label in data]"
      ],
      "metadata": {
        "id": "vOZWWnGz0pje"
      },
      "execution_count": 32,
      "outputs": []
    },
    {
      "cell_type": "markdown",
      "metadata": {
        "id": "n9lHsSPEhmyG"
      },
      "source": [
        "## New Feature Extraction approach\n",
        "\n",
        "using tf-idf vectorizer"
      ]
    },
    {
      "cell_type": "code",
      "execution_count": 34,
      "metadata": {
        "id": "3pHFaQuYhmyG"
      },
      "outputs": [],
      "source": [
        "from sklearn.feature_extraction.text import TfidfVectorizer\n",
        "\n",
        "def to_feature_vector(tweet):\n",
        "    tfidf_vectorizer = TfidfVectorizer(ngram_range=(1, 2))\n",
        "    tweet_text = ' '.join(tweet) if isinstance(tweet, list) else tweet\n",
        "    tfidf_matrix = tfidf_vectorizer.fit_transform([tweet_text])\n",
        "\n",
        "    features_vector = {term: weight for term, weight in zip(tfidf_vectorizer.get_feature_names_out(), tfidf_matrix.toarray()[0])}\n",
        "\n",
        "    return features_vector"
      ]
    },
    {
      "cell_type": "code",
      "execution_count": 35,
      "metadata": {
        "id": "dWYJhCX6hmyG"
      },
      "outputs": [],
      "source": [
        "def train_classifier(data):\n",
        "    print(\"Training Classifier...\")\n",
        "    pipeline =  Pipeline([('svc', LinearSVC())])\n",
        "    return SklearnClassifier(pipeline).train(data)"
      ]
    },
    {
      "cell_type": "markdown",
      "metadata": {
        "id": "j1BC4ojyhmyH"
      },
      "source": [
        "## Question 3: Cross-validation (20 marks)"
      ]
    },
    {
      "cell_type": "code",
      "execution_count": 36,
      "metadata": {
        "id": "NCri2PZhhmyH"
      },
      "outputs": [],
      "source": [
        "def predict_labels(samples, classifier):\n",
        "    \"\"\"Assuming preprocessed samples, return their predicted labels from the classifier model.\"\"\"\n",
        "    return classifier.classify_many(samples)\n",
        "\n",
        "def predict_label_from_raw(sample, classifier):\n",
        "    \"\"\"Assuming raw text, return its predicted label from the classifier model.\"\"\"\n",
        "    return classifier.classify(to_feature_vector(pre_process(sample)))"
      ]
    },
    {
      "cell_type": "markdown",
      "source": [
        "## printing out False Positives and False Negatives results to separate files in the drive"
      ],
      "metadata": {
        "id": "A3IJKIVAS9AA"
      }
    },
    {
      "cell_type": "code",
      "source": [
        "import os\n",
        "\n",
        "from google.colab import drive\n",
        "drive.mount('/content/drive')\n",
        "\n",
        "def print_to_file(false_positives, false_negatives, output_dir=None):\n",
        "\n",
        "    if output_dir is None:\n",
        "        output_dir = '/content/drive/My Drive/FalseErrors/'\n",
        "\n",
        "    os.makedirs(output_dir, exist_ok=True)\n",
        "\n",
        "    # Saving False Positives\n",
        "    with open(f'{output_dir}false_positives.txt', 'w') as f:\n",
        "        f.write(\"False Positives (Predicted 'positive', Actual 'negative'):\\n\")\n",
        "        for fp in false_positives:\n",
        "            f.write(f\"Tweet: {fp['tweet']}\\n\")\n",
        "            f.write(f\"Actual: {fp['actual']} | Predicted: {fp['predicted']}\\n\")\n",
        "            f.write(\"-\" * 50 + \"\\n\")\n",
        "\n",
        "    # Saving False Negatives\n",
        "    with open(f'{output_dir}false_negatives.txt', 'w') as f:\n",
        "        f.write(\"False Negatives (Predicted 'negative'', Actual 'positive'):\\n\")\n",
        "        for fn in false_negatives:\n",
        "            f.write(f\"Tweet: {fn['tweet']}\\n\")\n",
        "            f.write(f\"Actual: {fn['actual']} | Predicted: {fn['predicted']}\\n\")\n",
        "            f.write(\"-\" * 50 + \"\\n\")\n",
        "    print(f\"False errors saved to files: {output_dir}false_positives.txt and {output_dir}false_negatives.txt\")"
      ],
      "metadata": {
        "colab": {
          "base_uri": "https://localhost:8080/"
        },
        "id": "B9dv_Nfj-eEC",
        "outputId": "7bf7b718-dd60-4174-df9d-99b97a850f35"
      },
      "execution_count": 37,
      "outputs": [
        {
          "output_type": "stream",
          "name": "stdout",
          "text": [
            "Mounted at /content/drive\n"
          ]
        }
      ]
    },
    {
      "cell_type": "code",
      "execution_count": 38,
      "metadata": {
        "id": "_RcX_CrAhmyH"
      },
      "outputs": [],
      "source": [
        "from sklearn.metrics import classification_report, accuracy_score\n",
        "\n",
        "def cross_validate(dataset, folds):\n",
        "    false_positives = []\n",
        "    false_negatives = []\n",
        "\n",
        "    first_fold_y_true = []\n",
        "    first_fold_y_pred = []\n",
        "\n",
        "    cv_results = []\n",
        "\n",
        "    fold_size = int(len(dataset)/folds) + 1\n",
        "    print('Fold Size: ', fold_size)\n",
        "\n",
        "    for i in range(0,len(dataset),int(fold_size)):\n",
        "        print(\"Fold start on items %d - %d\" % (i, i+fold_size))\n",
        "        val_set = dataset[i:i+fold_size]\n",
        "        train_set = dataset[:i] + dataset[i+fold_size:]\n",
        "\n",
        "        classifier = train_classifier(train_set)\n",
        "\n",
        "        y_true = [t[1] for t in val_set]\n",
        "        y_pred = predict_labels([x[0] for x in val_set], classifier)\n",
        "\n",
        "        precission, recall, f1_score, _ = precision_recall_fscore_support(y_true, y_pred, average='weighted')\n",
        "        accuracy = accuracy_score(y_true, y_pred)\n",
        "        print(classification_report(y_true, y_pred))\n",
        "        print(\"Accuracy: \", accuracy)\n",
        "\n",
        "        cv_results.append({\n",
        "            'accuracy': accuracy,\n",
        "            'f1_score': f1_score,\n",
        "            'precision': precission,\n",
        "            'recall': recall,\n",
        "        })\n",
        "\n",
        "        print(f\"Fold {i//fold_size + 1} classification report:\")\n",
        "        print(classification_report(y_true, y_pred))\n",
        "\n",
        "        # save the false positive and false negative data to print them out later to a file\n",
        "        for tweet, true_label, predicted_label in zip([t for t in tweets[i:i+len(y_true)]], y_true, y_pred):\n",
        "          if true_label == \"negative\" and predicted_label == \"positive\":\n",
        "            false_positives.append({\"tweet\": tweet, \"actual\": true_label, \"predicted\": predicted_label})\n",
        "          if true_label == \"positive\" and predicted_label == \"negative\":\n",
        "            false_negatives.append({\"tweet\": tweet, \"actual\": true_label, \"predicted\": predicted_label})\n",
        "\n",
        "        # save the results of the first fold to use it for Error Analysis\n",
        "        if i == 0:\n",
        "          first_fold_y_true = y_true\n",
        "          first_fold_y_pred = y_pred\n",
        "\n",
        "    # print the false positives and negatives results to a file in the drive\n",
        "    print_to_file(false_positives, false_negatives)\n",
        "\n",
        "    # compute the average scores resulted from training all the folds\n",
        "    avg_accuracy = np.mean([result['accuracy'] for result in cv_results])\n",
        "    avg_f1_score = np.mean([result['f1_score'] for result in cv_results])\n",
        "    avg_precision = np.mean([result['precision'] for result in cv_results])\n",
        "    avg_recall = np.mean([result['recall'] for result in cv_results])\n",
        "\n",
        "    return {\n",
        "        'precision': avg_precision,\n",
        "        'recall': avg_recall,\n",
        "        'f1_score': avg_f1_score,\n",
        "        'accuracy': avg_accuracy,\n",
        "        'false_positives': false_positives,\n",
        "        'false_negatives': false_negatives,\n",
        "        'first_fold_y_true': first_fold_y_true,\n",
        "        'first_fold_y_pred': first_fold_y_pred,\n",
        "    }"
      ]
    },
    {
      "cell_type": "code",
      "execution_count": 39,
      "metadata": {
        "colab": {
          "base_uri": "https://localhost:8080/"
        },
        "id": "QR-hYJY7hmyH",
        "outputId": "32871648-55bc-4e58-d85a-712877d5aab4"
      },
      "outputs": [
        {
          "output_type": "stream",
          "name": "stdout",
          "text": [
            "Initially 0 rawData, 0 trainData, 0 testData\n",
            "\n",
            "Preparing the dataset...\n",
            "\n",
            "Now 33540 rawData, 0 trainData, 0 testData\n",
            "\n",
            "Preparing training and test data...\n",
            "\n",
            "After split, 33540 rawData, 26832 trainData, 6708 testData\n"
          ]
        }
      ],
      "source": [
        "# MAIN\n",
        "\n",
        "# loading reviews\n",
        "# initialize global lists that will be appended to by the methods below\n",
        "raw_data = []          # the filtered data from the dataset file\n",
        "train_data = []        # the pre-processed training data as a percentage of the total dataset\n",
        "test_data = []         # the pre-processed test data as a percentage of the total dataset\n",
        "\n",
        "\n",
        "# references to the data files\n",
        "data_file_path = 'sentiment-dataset.tsv'\n",
        "\n",
        "# Do the actual stuff (i.e. call the functions we've made)\n",
        "# We parse the dataset and put it in a raw data list\n",
        "print(\"Initially %d rawData, %d trainData, %d testData\" % (len(raw_data), len(train_data), len(test_data)),\n",
        "      \"Preparing the dataset...\",sep='\\n\\n')\n",
        "print()\n",
        "raw_data = load_data(data_file_path)\n",
        "\n",
        "# We split the raw dataset into a set of training data and a set of test data (80/20)\n",
        "# You do the cross validation on the 80% (training data)\n",
        "# We print the number of training samples and the number of features before the split\n",
        "print(\"Now %d rawData, %d trainData, %d testData\" % (len(raw_data), len(train_data), len(test_data)),\n",
        "      \"Preparing training and test data...\",sep='\\n\\n')\n",
        "print()\n",
        "split_and_preprocess_data(0.8)\n",
        "\n",
        "# We print the number of training samples and the number of features after the split\n",
        "print(\"After split, %d rawData, %d trainData, %d testData\" % (len(raw_data), len(train_data), len(test_data)), sep='\\n\\n')"
      ]
    },
    {
      "cell_type": "code",
      "source": [
        "print(train_data[0])"
      ],
      "metadata": {
        "colab": {
          "base_uri": "https://localhost:8080/"
        },
        "id": "9B1q019vwVMB",
        "outputId": "647857a4-fc31-4fde-acdf-4bfc7f06a023"
      },
      "execution_count": 40,
      "outputs": [
        {
          "output_type": "stream",
          "name": "stdout",
          "text": [
            "({'concert': 0.2773500981126146, 'concert octob': 0.2773500981126146, 'excit': 0.2773500981126146, 'excit go': 0.2773500981126146, 'go': 0.2773500981126146, 'go sam': 0.2773500981126146, 'liter': 0.2773500981126146, 'liter excit': 0.2773500981126146, 'octob': 0.2773500981126146, 'sam': 0.2773500981126146, 'sam smith': 0.2773500981126146, 'smith': 0.2773500981126146, 'smith concert': 0.2773500981126146}, 'positive')\n"
          ]
        }
      ]
    },
    {
      "cell_type": "code",
      "execution_count": 41,
      "metadata": {
        "colab": {
          "base_uri": "https://localhost:8080/"
        },
        "id": "wEbxdd4xhmyH",
        "outputId": "2194bed3-4f0f-4b1c-8060-5bba922416e0"
      },
      "outputs": [
        {
          "output_type": "stream",
          "name": "stdout",
          "text": [
            "Fold Size:  2684\n",
            "Fold start on items 0 - 2684\n",
            "Training Classifier...\n",
            "              precision    recall  f1-score   support\n",
            "\n",
            "    negative       0.84      0.66      0.74       818\n",
            "    positive       0.86      0.94      0.90      1866\n",
            "\n",
            "    accuracy                           0.86      2684\n",
            "   macro avg       0.85      0.80      0.82      2684\n",
            "weighted avg       0.86      0.86      0.85      2684\n",
            "\n",
            "Accuracy:  0.8580476900149031\n",
            "Fold 1 classification report:\n",
            "              precision    recall  f1-score   support\n",
            "\n",
            "    negative       0.84      0.66      0.74       818\n",
            "    positive       0.86      0.94      0.90      1866\n",
            "\n",
            "    accuracy                           0.86      2684\n",
            "   macro avg       0.85      0.80      0.82      2684\n",
            "weighted avg       0.86      0.86      0.85      2684\n",
            "\n",
            "Fold start on items 2684 - 5368\n",
            "Training Classifier...\n",
            "              precision    recall  f1-score   support\n",
            "\n",
            "    negative       0.75      0.55      0.64       593\n",
            "    positive       0.88      0.95      0.91      2091\n",
            "\n",
            "    accuracy                           0.86      2684\n",
            "   macro avg       0.82      0.75      0.78      2684\n",
            "weighted avg       0.85      0.86      0.85      2684\n",
            "\n",
            "Accuracy:  0.8617734724292101\n",
            "Fold 2 classification report:\n",
            "              precision    recall  f1-score   support\n",
            "\n",
            "    negative       0.75      0.55      0.64       593\n",
            "    positive       0.88      0.95      0.91      2091\n",
            "\n",
            "    accuracy                           0.86      2684\n",
            "   macro avg       0.82      0.75      0.78      2684\n",
            "weighted avg       0.85      0.86      0.85      2684\n",
            "\n",
            "Fold start on items 5368 - 8052\n",
            "Training Classifier...\n",
            "              precision    recall  f1-score   support\n",
            "\n",
            "    negative       0.81      0.78      0.80      1045\n",
            "    positive       0.86      0.88      0.87      1639\n",
            "\n",
            "    accuracy                           0.84      2684\n",
            "   macro avg       0.84      0.83      0.83      2684\n",
            "weighted avg       0.84      0.84      0.84      2684\n",
            "\n",
            "Accuracy:  0.8435171385991058\n",
            "Fold 3 classification report:\n",
            "              precision    recall  f1-score   support\n",
            "\n",
            "    negative       0.81      0.78      0.80      1045\n",
            "    positive       0.86      0.88      0.87      1639\n",
            "\n",
            "    accuracy                           0.84      2684\n",
            "   macro avg       0.84      0.83      0.83      2684\n",
            "weighted avg       0.84      0.84      0.84      2684\n",
            "\n",
            "Fold start on items 8052 - 10736\n",
            "Training Classifier...\n",
            "              precision    recall  f1-score   support\n",
            "\n",
            "    negative       0.89      0.84      0.86      1330\n",
            "    positive       0.85      0.90      0.87      1354\n",
            "\n",
            "    accuracy                           0.87      2684\n",
            "   macro avg       0.87      0.87      0.87      2684\n",
            "weighted avg       0.87      0.87      0.87      2684\n",
            "\n",
            "Accuracy:  0.8658718330849479\n",
            "Fold 4 classification report:\n",
            "              precision    recall  f1-score   support\n",
            "\n",
            "    negative       0.89      0.84      0.86      1330\n",
            "    positive       0.85      0.90      0.87      1354\n",
            "\n",
            "    accuracy                           0.87      2684\n",
            "   macro avg       0.87      0.87      0.87      2684\n",
            "weighted avg       0.87      0.87      0.87      2684\n",
            "\n",
            "Fold start on items 10736 - 13420\n",
            "Training Classifier...\n",
            "              precision    recall  f1-score   support\n",
            "\n",
            "    negative       0.83      0.70      0.76       921\n",
            "    positive       0.86      0.93      0.89      1763\n",
            "\n",
            "    accuracy                           0.85      2684\n",
            "   macro avg       0.84      0.81      0.83      2684\n",
            "weighted avg       0.85      0.85      0.85      2684\n",
            "\n",
            "Accuracy:  0.8491058122205664\n",
            "Fold 5 classification report:\n",
            "              precision    recall  f1-score   support\n",
            "\n",
            "    negative       0.83      0.70      0.76       921\n",
            "    positive       0.86      0.93      0.89      1763\n",
            "\n",
            "    accuracy                           0.85      2684\n",
            "   macro avg       0.84      0.81      0.83      2684\n",
            "weighted avg       0.85      0.85      0.85      2684\n",
            "\n",
            "Fold start on items 13420 - 16104\n",
            "Training Classifier...\n",
            "              precision    recall  f1-score   support\n",
            "\n",
            "    negative       0.87      0.72      0.79       931\n",
            "    positive       0.86      0.94      0.90      1753\n",
            "\n",
            "    accuracy                           0.87      2684\n",
            "   macro avg       0.87      0.83      0.85      2684\n",
            "weighted avg       0.87      0.87      0.86      2684\n",
            "\n",
            "Accuracy:  0.8658718330849479\n",
            "Fold 6 classification report:\n",
            "              precision    recall  f1-score   support\n",
            "\n",
            "    negative       0.87      0.72      0.79       931\n",
            "    positive       0.86      0.94      0.90      1753\n",
            "\n",
            "    accuracy                           0.87      2684\n",
            "   macro avg       0.87      0.83      0.85      2684\n",
            "weighted avg       0.87      0.87      0.86      2684\n",
            "\n",
            "Fold start on items 16104 - 18788\n",
            "Training Classifier...\n",
            "              precision    recall  f1-score   support\n",
            "\n",
            "    negative       0.83      0.74      0.78       898\n",
            "    positive       0.87      0.93      0.90      1786\n",
            "\n",
            "    accuracy                           0.86      2684\n",
            "   macro avg       0.85      0.83      0.84      2684\n",
            "weighted avg       0.86      0.86      0.86      2684\n",
            "\n",
            "Accuracy:  0.8621460506706409\n",
            "Fold 7 classification report:\n",
            "              precision    recall  f1-score   support\n",
            "\n",
            "    negative       0.83      0.74      0.78       898\n",
            "    positive       0.87      0.93      0.90      1786\n",
            "\n",
            "    accuracy                           0.86      2684\n",
            "   macro avg       0.85      0.83      0.84      2684\n",
            "weighted avg       0.86      0.86      0.86      2684\n",
            "\n",
            "Fold start on items 18788 - 21472\n",
            "Training Classifier...\n",
            "              precision    recall  f1-score   support\n",
            "\n",
            "    negative       0.85      0.73      0.78       908\n",
            "    positive       0.87      0.93      0.90      1776\n",
            "\n",
            "    accuracy                           0.86      2684\n",
            "   macro avg       0.86      0.83      0.84      2684\n",
            "weighted avg       0.86      0.86      0.86      2684\n",
            "\n",
            "Accuracy:  0.8643815201192251\n",
            "Fold 8 classification report:\n",
            "              precision    recall  f1-score   support\n",
            "\n",
            "    negative       0.85      0.73      0.78       908\n",
            "    positive       0.87      0.93      0.90      1776\n",
            "\n",
            "    accuracy                           0.86      2684\n",
            "   macro avg       0.86      0.83      0.84      2684\n",
            "weighted avg       0.86      0.86      0.86      2684\n",
            "\n",
            "Fold start on items 21472 - 24156\n",
            "Training Classifier...\n",
            "              precision    recall  f1-score   support\n",
            "\n",
            "    negative       0.85      0.71      0.78       910\n",
            "    positive       0.86      0.94      0.90      1774\n",
            "\n",
            "    accuracy                           0.86      2684\n",
            "   macro avg       0.86      0.83      0.84      2684\n",
            "weighted avg       0.86      0.86      0.86      2684\n",
            "\n",
            "Accuracy:  0.860655737704918\n",
            "Fold 9 classification report:\n",
            "              precision    recall  f1-score   support\n",
            "\n",
            "    negative       0.85      0.71      0.78       910\n",
            "    positive       0.86      0.94      0.90      1774\n",
            "\n",
            "    accuracy                           0.86      2684\n",
            "   macro avg       0.86      0.83      0.84      2684\n",
            "weighted avg       0.86      0.86      0.86      2684\n",
            "\n",
            "Fold start on items 24156 - 26840\n",
            "Training Classifier...\n",
            "              precision    recall  f1-score   support\n",
            "\n",
            "    negative       0.85      0.73      0.79       929\n",
            "    positive       0.87      0.93      0.90      1747\n",
            "\n",
            "    accuracy                           0.86      2676\n",
            "   macro avg       0.86      0.83      0.84      2676\n",
            "weighted avg       0.86      0.86      0.86      2676\n",
            "\n",
            "Accuracy:  0.8632286995515696\n",
            "Fold 10 classification report:\n",
            "              precision    recall  f1-score   support\n",
            "\n",
            "    negative       0.85      0.73      0.79       929\n",
            "    positive       0.87      0.93      0.90      1747\n",
            "\n",
            "    accuracy                           0.86      2676\n",
            "   macro avg       0.86      0.83      0.84      2676\n",
            "weighted avg       0.86      0.86      0.86      2676\n",
            "\n",
            "False errors saved to files: /content/drive/My Drive/FalseErrors/false_positives.txt and /content/drive/My Drive/FalseErrors/false_negatives.txt\n"
          ]
        }
      ],
      "source": [
        "cv_results = cross_validate(train_data, 10)"
      ]
    },
    {
      "cell_type": "markdown",
      "source": [
        "## print out the number of False Positives and False Negatives"
      ],
      "metadata": {
        "id": "FcMZfzlsUagU"
      }
    },
    {
      "cell_type": "code",
      "source": [
        "false_positives = cv_results['false_positives']\n",
        "false_negatives = cv_results['false_negatives']\n",
        "\n",
        "print(\"There are %d False Positives\" %len(false_positives))\n",
        "print(\"There are %d False Negatives\" %len(false_negatives))"
      ],
      "metadata": {
        "id": "BcuePCw_J4Vp",
        "colab": {
          "base_uri": "https://localhost:8080/"
        },
        "outputId": "cdf0f680-a209-4ff6-91e6-df00d9334f21"
      },
      "execution_count": 42,
      "outputs": [
        {
          "output_type": "stream",
          "name": "stdout",
          "text": [
            "There are 2510 False Positives\n",
            "There are 1261 False Negatives\n"
          ]
        }
      ]
    },
    {
      "cell_type": "markdown",
      "source": [
        "## Check out the average scores of the training data"
      ],
      "metadata": {
        "id": "Bo5174OOUg1p"
      }
    },
    {
      "cell_type": "code",
      "source": [
        "print(f\"Average Precision: {cv_results['precision'] * 100:.2f}%\")\n",
        "print(f\"Average Revall: {cv_results['recall']*100:.2f}%\")\n",
        "print(f\"Average F1 Score: {cv_results['f1_score'] * 100:.2f}%\")\n",
        "print(f\"Average Accuracy: {cv_results['accuracy'] * 100:.2f}%\")"
      ],
      "metadata": {
        "colab": {
          "base_uri": "https://localhost:8080/"
        },
        "id": "9YnH-wqo7Fk5",
        "outputId": "be84e448-284f-4d51-c00e-b133309b2084"
      },
      "execution_count": 43,
      "outputs": [
        {
          "output_type": "stream",
          "name": "stdout",
          "text": [
            "Average Precision: 85.81%\n",
            "Average Revall: 85.95%\n",
            "Average F1 Score: 85.63%\n",
            "Average Accuracy: 85.95%\n"
          ]
        }
      ]
    },
    {
      "cell_type": "markdown",
      "metadata": {
        "id": "VmNp9EVDhmyH"
      },
      "source": [
        "## Question 4: Error Analysis (20 marks)"
      ]
    },
    {
      "cell_type": "code",
      "execution_count": 44,
      "metadata": {
        "id": "C42zBSnshmyH"
      },
      "outputs": [],
      "source": [
        "from sklearn import metrics\n",
        "import matplotlib.pyplot as plt\n",
        "# a function to make the confusion matrix readable and pretty\n",
        "def confusion_matrix_heatmap(y_test, preds, labels):\n",
        "    \"\"\"Function to plot a confusion matrix\"\"\"\n",
        "    # pass labels to the confusion matrix function to ensure right order\n",
        "    # cm = metrics.confusion_matrix(y_test, preds, labels)\n",
        "    cm = metrics.confusion_matrix(y_test, preds, labels=labels)\n",
        "    fig = plt.figure(figsize=(10,10))\n",
        "    ax = fig.add_subplot(111)\n",
        "    cax = ax.matshow(cm)\n",
        "    plt.title('Confusion matrix of the classifier')\n",
        "    fig.colorbar(cax)\n",
        "    ax.set_xticks(np.arange(len(labels)))\n",
        "    ax.set_yticks(np.arange(len(labels)))\n",
        "    ax.set_xticklabels( labels, rotation=45)\n",
        "    ax.set_yticklabels( labels)\n",
        "\n",
        "    for i in range(len(cm)):\n",
        "        for j in range(len(cm)):\n",
        "            text = ax.text(j, i, cm[i, j],\n",
        "                           ha=\"center\", va=\"center\", color=\"w\")\n",
        "\n",
        "    plt.xlabel('Predicted')\n",
        "    plt.ylabel('True')\n",
        "\n",
        "    # fix for mpl bug that cuts off top/bottom of seaborn viz:\n",
        "    b, t = plt.ylim() # discover the values for bottom and top\n",
        "    b += 0.5 # Add 0.5 to the bottom\n",
        "    t -= 0.5 # Subtract 0.5 from the top\n",
        "    plt.ylim(b, t) # update the ylim(bottom, top) values\n",
        "    plt.show() # ta-da!\n",
        "    plt.show()"
      ]
    },
    {
      "cell_type": "markdown",
      "source": [
        "## Confusion matrix corresponding to the first fold of the training data"
      ],
      "metadata": {
        "id": "hupdLe5NlxMF"
      }
    },
    {
      "cell_type": "code",
      "source": [
        "confusion_matrix_heatmap(cv_results['first_fold_y_true'], cv_results['first_fold_y_pred'], ['positive', 'negative'])"
      ],
      "metadata": {
        "colab": {
          "base_uri": "https://localhost:8080/",
          "height": 916
        },
        "id": "-IX8eMbTGqrD",
        "outputId": "318db39b-cd81-4153-c5f1-be7d1807bb8f"
      },
      "execution_count": 45,
      "outputs": [
        {
          "output_type": "display_data",
          "data": {
            "text/plain": [
              "<Figure size 1000x1000 with 2 Axes>"
            ],
            "image/png": "[encoded data removed]"
          },
          "metadata": {}
        }
      ]
    },
    {
      "cell_type": "markdown",
      "metadata": {
        "id": "BUYJvdi5hmyH"
      },
      "source": [
        "## Checking the accuracy of your classifier on the testing dataset"
      ]
    },
    {
      "cell_type": "code",
      "execution_count": 46,
      "metadata": {
        "id": "JJv7vmFUhmyI",
        "colab": {
          "base_uri": "https://localhost:8080/"
        },
        "outputId": "91a5e762-e051-4281-f68f-efe8fbe4c1ad"
      },
      "outputs": [
        {
          "output_type": "stream",
          "name": "stdout",
          "text": [
            "({'alissadossanto': 0.22941573387056174, 'alissadossanto talk': 0.22941573387056174, 'beyonc': 0.22941573387056174, 'episod': 0.22941573387056174, 'episod hsonair': 0.22941573387056174, 'hsonair': 0.22941573387056174, 'hsonair profil': 0.22941573387056174, 'profil': 0.22941573387056174, 'profil alissadossanto': 0.22941573387056174, 'releas': 0.22941573387056174, 'releas th': 0.22941573387056174, 'storytel': 0.22941573387056174, 'storytel beyonc': 0.22941573387056174, 'talk': 0.22941573387056174, 'talk storytel': 0.22941573387056174, 'th': 0.22941573387056174, 'th episod': 0.22941573387056174, 'tomorrow': 0.22941573387056174, 'tomorrow releas': 0.22941573387056174}, 'positive')\n",
            "Training Classifier...\n",
            "Done training!\n",
            "Precision: 0.864638\n",
            "Recall: 0.865683\n",
            "F Score:0.863449\n"
          ]
        }
      ],
      "source": [
        "# Finally, check the accuracy of your classifier by training on all the traning data\n",
        "# and testing on the test set\n",
        "# Will only work once all functions are complete\n",
        "functions_complete = True  # set to True once you're happy with your methods for cross val\n",
        "if functions_complete:\n",
        "    print(test_data[0])   # have a look at the first test data instancge\n",
        "    classifier = train_classifier(train_data)  # train the classifier\n",
        "    test_true = [t[1] for t in test_data]   # get the ground-truth labels from the data\n",
        "    test_pred = predict_labels([x[0] for x in test_data], classifier)  # classify the test data to get predicted labels\n",
        "    final_scores = precision_recall_fscore_support(test_true, test_pred, average='weighted') # evaluate\n",
        "    print(\"Done training!\")\n",
        "    print(\"Precision: %f\\nRecall: %f\\nF Score:%f\" % final_scores[:3])"
      ]
    }
  ],
  "metadata": {
    "kernelspec": {
      "display_name": "Python 3",
      "language": "python",
      "name": "python3"
    },
    "language_info": {
      "codemirror_mode": {
        "name": "ipython",
        "version": 3
      },
      "file_extension": ".py",
      "mimetype": "text/x-python",
      "name": "python",
      "nbconvert_exporter": "python",
      "pygments_lexer": "ipython3",
      "version": "3.12.3"
    },
    "colab": {
      "provenance": []
    }
  },
  "nbformat": 4,
  "nbformat_minor": 0
}